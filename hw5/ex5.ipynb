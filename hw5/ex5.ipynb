{
 "cells": [
  {
   "cell_type": "code",
   "execution_count": 1,
   "id": "8dfc9910-1f69-4f2c-a54f-15a1d705f704",
   "metadata": {},
   "outputs": [],
   "source": [
    "import numpy as np\n",
    "import scipy.io as sio\n",
    "import matplotlib.pylab as plt\n",
    "import scipy.optimize as op"
   ]
  },
  {
   "cell_type": "markdown",
   "id": "b32e0440-94c7-438d-bccb-8327f2f79159",
   "metadata": {},
   "source": [
    "# =========== Part 1: Loading and Visualizing Data ============="
   ]
  },
  {
   "cell_type": "code",
   "execution_count": 2,
   "id": "348f1efe-d8a5-479c-9607-60edfe9f97a0",
   "metadata": {},
   "outputs": [
    {
     "name": "stdout",
     "output_type": "stream",
     "text": [
      "Loading and Visualizing Data ...\n"
     ]
    },
    {
     "data": {
      "image/png": "[encoded data removed]",
      "text/plain": [
       "<Figure size 432x288 with 1 Axes>"
      ]
     },
     "metadata": {
      "needs_background": "light"
     },
     "output_type": "display_data"
    }
   ],
   "source": [
    "print('Loading and Visualizing Data ...')\n",
    "\n",
    "# Load from ex5data1: \n",
    "# You will have X, y, Xval, yval, Xtest, ytest in your environment\n",
    "data = sio.loadmat('./ex5/ex5data1.mat');\n",
    "X = data['X'][:, 0]\n",
    "Y = data['y'][:, 0]\n",
    "\n",
    "Xtest = data['Xtest'][:, 0]\n",
    "Ytest = data['ytest'][:, 0]\n",
    "Xval = data['Xval'][:, 0]\n",
    "Yval = data['yval'][:, 0]\n",
    "\n",
    "# m = Number of examples\n",
    "m = np.size(X, 0);\n",
    "plt.plot(X, Y, 'rx', ms=10, mew=1.5)\n",
    "plt.xlabel('Change in water level(X)')\n",
    "plt.ylabel('Water flowing out of the dam (y)')\n",
    "plt.show()"
   ]
  },
  {
   "cell_type": "markdown",
   "id": "bf6bc865-f031-4385-8a31-7199cba5002b",
   "metadata": {},
   "source": [
    "# =========== Part 2: Regularized Linear Regression Cost ============="
   ]
  },
  {
   "cell_type": "code",
   "execution_count": 3,
   "id": "495aeebc-8504-465d-b161-32d0b4d9841e",
   "metadata": {},
   "outputs": [],
   "source": [
    "def lineRegCostFunc(theta, x, y, lamb):\n",
    "    m = np.size(y, 0)\n",
    "    j = 1 / (2 * m) * ((x.dot(theta) - y).T.dot(x.dot(theta) - y) + lamb * (theta[1:].dot(theta[1:])))\n",
    "    return j"
   ]
  },
  {
   "cell_type": "code",
   "execution_count": 4,
   "id": "d1376e69-4e1a-4c87-9c04-b64950335d89",
   "metadata": {},
   "outputs": [
    {
     "name": "stdout",
     "output_type": "stream",
     "text": [
      "Cost at theta = [1 ; 1]: 303.993192 (this value should be about 303.993192)\n",
      "\n"
     ]
    }
   ],
   "source": [
    "# You should now implement the cost function for regularized linear regression. \n",
    "theta = np.array([1, 1])\n",
    "\n",
    "J = lineRegCostFunc(theta, np.c_[np.ones(m,), X], Y, 1)\n",
    "\n",
    "print('Cost at theta = [1 ; 1]: %f (this value should be about 303.993192)\\n' % J)"
   ]
  },
  {
   "cell_type": "markdown",
   "id": "fc8a51a2-1b7f-4d05-915b-bc8e498729a0",
   "metadata": {},
   "source": [
    "# =========== Part 3: Regularized Linear Regression Gradient ============="
   ]
  },
  {
   "cell_type": "code",
   "execution_count": 5,
   "id": "ccf21838-2ef9-4390-acaf-7de9b352d435",
   "metadata": {},
   "outputs": [],
   "source": [
    "def lineRegGradFunc(theta, x, y, lamb):\n",
    "    print(x[:, 0])\n",
    "    m = np.size(y, 0)\n",
    "    grad = np.zeros(np.shape(theta))\n",
    "    grad[0] = 1 / m * (x.dot(theta) - y).dot(x[:, 0])\n",
    "    grad[1:] = 1/m*(x[:, 1:]).T.dot(x.dot(theta)-y)+lamb/m*theta[1:]\n",
    "    return grad"
   ]
  },
  {
   "cell_type": "code",
   "execution_count": 6,
   "id": "c82a12b6-d0f0-47da-b888-af5a9f45a5be",
   "metadata": {},
   "outputs": [
    {
     "name": "stdout",
     "output_type": "stream",
     "text": [
      "[1. 1. 1. 1. 1. 1. 1. 1. 1. 1. 1. 1.]\n",
      "Gradient at theta = [1 ; 1]:  [-15.303016; 598.250744] (this value should be about [-15.303016; 598.250744])\n"
     ]
    }
   ],
   "source": [
    "grad = lineRegGradFunc(theta, np.c_[np.ones(m,), X], Y,  1)\n",
    "\n",
    "print('Gradient at theta = [1 ; 1]:  [%f; %f] (this value should be about [-15.303016; 598.250744])' % (grad[0],grad[1]))\n"
   ]
  },
  {
   "cell_type": "markdown",
   "id": "5c9f9b52-97ff-43e1-ab50-4472b9533ef7",
   "metadata": {},
   "source": [
    "# =========== Part 4: Train Linear Regression ============="
   ]
  },
  {
   "cell_type": "code",
   "execution_count": 7,
   "id": "abd9b3df-09c3-4822-b905-6443f326b423",
   "metadata": {},
   "outputs": [],
   "source": [
    "def trainLineReg(x, y, lamb):\n",
    "    init_theta = np.zeros(np.size(x, 1),)\n",
    "    theta = op.fmin_cg(lineRegCostFunc, init_theta, fprime=lineRegGradFunc, maxiter=200, args=(x, y, lamb))\n",
    "    return theta"
   ]
  },
  {
   "cell_type": "code",
   "execution_count": 8,
   "id": "a45758c0-d25e-458e-b88a-551f9a8ef3ff",
   "metadata": {},
   "outputs": [
    {
     "name": "stdout",
     "output_type": "stream",
     "text": [
      "[1. 1. 1. 1. 1. 1. 1. 1. 1. 1. 1. 1.]\n",
      "[1. 1. 1. 1. 1. 1. 1. 1. 1. 1. 1. 1.]\n",
      "[1. 1. 1. 1. 1. 1. 1. 1. 1. 1. 1. 1.]\n",
      "[1. 1. 1. 1. 1. 1. 1. 1. 1. 1. 1. 1.]\n",
      "[1. 1. 1. 1. 1. 1. 1. 1. 1. 1. 1. 1.]\n",
      "Optimization terminated successfully.\n",
      "         Current function value: 22.373906\n",
      "         Iterations: 2\n",
      "         Function evaluations: 5\n",
      "         Gradient evaluations: 5\n"
     ]
    }
   ],
   "source": [
    "# Train linear regression with lambda = 0\n",
    "lamb = 0;\n",
    "theta = trainLineReg(np.c_[np.ones(m, ), X], Y, lamb);"
   ]
  },
  {
   "cell_type": "code",
   "execution_count": 9,
   "id": "fe9e56fc-e46c-4920-9434-38e0f2701330",
   "metadata": {},
   "outputs": [
    {
     "data": {
      "text/plain": [
       "[<matplotlib.lines.Line2D at 0x2c2eb4426a0>]"
      ]
     },
     "execution_count": 9,
     "metadata": {},
     "output_type": "execute_result"
    },
    {
     "data": {
      "image/png": "[encoded data removed]",
      "text/plain": [
       "<Figure size 432x288 with 1 Axes>"
      ]
     },
     "metadata": {
      "needs_background": "light"
     },
     "output_type": "display_data"
    }
   ],
   "source": [
    "# Plot fit over the data\n",
    "plt.plot(X, Y, 'rx', ms = 10, lw = 1.5)\n",
    "plt.xlabel('Change in water level (x)')\n",
    "plt.ylabel('Water flowing out of the dam (y)')\n",
    "plt.plot(X, np.c_[np.ones(m, ), X].dot(theta), '--', lw = 2)"
   ]
  },
  {
   "cell_type": "markdown",
   "id": "f17d7b5e-bb47-4757-9c5f-e6c119c93491",
   "metadata": {},
   "source": [
    "# =========== Part 5: Learning Curve for Linear Regression ============="
   ]
  },
  {
   "cell_type": "code",
   "execution_count": 10,
   "id": "ca996f84-52ce-4883-9755-1ea83ef1e4ff",
   "metadata": {},
   "outputs": [],
   "source": [
    "def learningCurve(x, y, xval, yval, lamb):\n",
    "    m = np.size(x, 0)\n",
    "    err_train = np.zeros((m,))\n",
    "    err_val = np.zeros((m,))\n",
    "    for i in range(m):\n",
    "        theta = trainLineReg(x[0:i+1, :], y[0:i+1], lamb)\n",
    "        err_train[i] = lineRegCostFunc(theta, x[0: i+1, :], y[0:i+1], 0)\n",
    "        err_val[i] = lineRegCostFunc(theta, xval, yval, 0)\n",
    "    return err_train, err_val"
   ]
  },
  {
   "cell_type": "code",
   "execution_count": 11,
   "id": "319cc214-6ff9-4b75-b284-29e797af1a1a",
   "metadata": {},
   "outputs": [
    {
     "name": "stdout",
     "output_type": "stream",
     "text": [
      "[1.]\n",
      "[1.]\n",
      "[1.]\n",
      "Optimization terminated successfully.\n",
      "         Current function value: 0.000000\n",
      "         Iterations: 1\n",
      "         Function evaluations: 3\n",
      "         Gradient evaluations: 3\n",
      "[1. 1.]\n",
      "[1. 1.]\n",
      "[1. 1.]\n",
      "[1. 1.]\n",
      "[1. 1.]\n",
      "[1. 1.]\n",
      "Optimization terminated successfully.\n",
      "         Current function value: 0.000000\n",
      "         Iterations: 2\n",
      "         Function evaluations: 6\n",
      "         Gradient evaluations: 6\n",
      "[1. 1. 1.]\n",
      "[1. 1. 1.]\n",
      "[1. 1. 1.]\n",
      "[1. 1. 1.]\n",
      "[1. 1. 1.]\n",
      "[1. 1. 1.]\n",
      "[1. 1. 1.]\n",
      "[1. 1. 1.]\n",
      "[1. 1. 1.]\n",
      "[1. 1. 1.]\n",
      "[1. 1. 1.]\n",
      "[1. 1. 1.]\n",
      "[1. 1. 1.]\n",
      "[1. 1. 1.]\n",
      "[1. 1. 1.]\n",
      "Optimization terminated successfully.\n",
      "         Current function value: 3.286595\n",
      "         Iterations: 9\n",
      "         Function evaluations: 15\n",
      "         Gradient evaluations: 15\n",
      "[1. 1. 1. 1.]\n",
      "[1. 1. 1. 1.]\n",
      "[1. 1. 1. 1.]\n",
      "[1. 1. 1. 1.]\n",
      "[1. 1. 1. 1.]\n",
      "[1. 1. 1. 1.]\n",
      "[1. 1. 1. 1.]\n",
      "[1. 1. 1. 1.]\n",
      "[1. 1. 1. 1.]\n",
      "[1. 1. 1. 1.]\n",
      "[1. 1. 1. 1.]\n",
      "[1. 1. 1. 1.]\n",
      "[1. 1. 1. 1.]\n",
      "[1. 1. 1. 1.]\n",
      "Optimization terminated successfully.\n",
      "         Current function value: 2.842678\n",
      "         Iterations: 8\n",
      "         Function evaluations: 14\n",
      "         Gradient evaluations: 14\n",
      "[1. 1. 1. 1. 1.]\n",
      "[1. 1. 1. 1. 1.]\n",
      "[1. 1. 1. 1. 1.]\n",
      "[1. 1. 1. 1. 1.]\n",
      "[1. 1. 1. 1. 1.]\n",
      "[1. 1. 1. 1. 1.]\n",
      "[1. 1. 1. 1. 1.]\n",
      "[1. 1. 1. 1. 1.]\n",
      "[1. 1. 1. 1. 1.]\n",
      "[1. 1. 1. 1. 1.]\n",
      "[1. 1. 1. 1. 1.]\n",
      "[1. 1. 1. 1. 1.]\n",
      "[1. 1. 1. 1. 1.]\n",
      "[1. 1. 1. 1. 1.]\n",
      "[1. 1. 1. 1. 1.]\n",
      "[1. 1. 1. 1. 1.]\n",
      "[1. 1. 1. 1. 1.]\n",
      "[1. 1. 1. 1. 1.]\n",
      "[1. 1. 1. 1. 1.]\n",
      "[1. 1. 1. 1. 1.]\n",
      "[1. 1. 1. 1. 1.]\n",
      "[1. 1. 1. 1. 1.]\n",
      "[1. 1. 1. 1. 1.]\n",
      "[1. 1. 1. 1. 1.]\n",
      "[1. 1. 1. 1. 1.]\n",
      "[1. 1. 1. 1. 1.]\n",
      "[1. 1. 1. 1. 1.]\n",
      "[1. 1. 1. 1. 1.]\n",
      "[1. 1. 1. 1. 1.]\n",
      "[1. 1. 1. 1. 1.]\n",
      "[1. 1. 1. 1. 1.]\n",
      "[1. 1. 1. 1. 1.]\n",
      "[1. 1. 1. 1. 1.]\n",
      "[1. 1. 1. 1. 1.]\n",
      "Optimization terminated successfully.\n",
      "         Current function value: 13.154049\n",
      "         Iterations: 22\n",
      "         Function evaluations: 34\n",
      "         Gradient evaluations: 34\n",
      "[1. 1. 1. 1. 1. 1.]\n",
      "[1. 1. 1. 1. 1. 1.]\n",
      "[1. 1. 1. 1. 1. 1.]\n",
      "[1. 1. 1. 1. 1. 1.]\n",
      "[1. 1. 1. 1. 1. 1.]\n",
      "[1. 1. 1. 1. 1. 1.]\n",
      "[1. 1. 1. 1. 1. 1.]\n",
      "[1. 1. 1. 1. 1. 1.]\n",
      "[1. 1. 1. 1. 1. 1.]\n",
      "[1. 1. 1. 1. 1. 1.]\n",
      "[1. 1. 1. 1. 1. 1.]\n",
      "[1. 1. 1. 1. 1. 1.]\n",
      "[1. 1. 1. 1. 1. 1.]\n",
      "[1. 1. 1. 1. 1. 1.]\n",
      "[1. 1. 1. 1. 1. 1.]\n",
      "[1. 1. 1. 1. 1. 1.]\n",
      "[1. 1. 1. 1. 1. 1.]\n",
      "[1. 1. 1. 1. 1. 1.]\n",
      "[1. 1. 1. 1. 1. 1.]\n",
      "[1. 1. 1. 1. 1. 1.]\n",
      "[1. 1. 1. 1. 1. 1.]\n",
      "[1. 1. 1. 1. 1. 1.]\n",
      "[1. 1. 1. 1. 1. 1.]\n",
      "[1. 1. 1. 1. 1. 1.]\n",
      "[1. 1. 1. 1. 1. 1.]\n",
      "[1. 1. 1. 1. 1. 1.]\n",
      "[1. 1. 1. 1. 1. 1.]\n",
      "[1. 1. 1. 1. 1. 1.]\n",
      "[1. 1. 1. 1. 1. 1.]\n",
      "[1. 1. 1. 1. 1. 1.]\n",
      "[1. 1. 1. 1. 1. 1.]\n",
      "[1. 1. 1. 1. 1. 1.]\n",
      "[1. 1. 1. 1. 1. 1.]\n",
      "[1. 1. 1. 1. 1. 1.]\n",
      "Optimization terminated successfully.\n",
      "         Current function value: 19.443963\n",
      "         Iterations: 22\n",
      "         Function evaluations: 34\n",
      "         Gradient evaluations: 34\n",
      "[1. 1. 1. 1. 1. 1. 1.]\n",
      "[1. 1. 1. 1. 1. 1. 1.]\n",
      "[1. 1. 1. 1. 1. 1. 1.]\n",
      "[1. 1. 1. 1. 1. 1. 1.]\n",
      "[1. 1. 1. 1. 1. 1. 1.]\n",
      "[1. 1. 1. 1. 1. 1. 1.]\n",
      "[1. 1. 1. 1. 1. 1. 1.]\n",
      "[1. 1. 1. 1. 1. 1. 1.]\n",
      "[1. 1. 1. 1. 1. 1. 1.]\n",
      "[1. 1. 1. 1. 1. 1. 1.]\n",
      "[1. 1. 1. 1. 1. 1. 1.]\n",
      "[1. 1. 1. 1. 1. 1. 1.]\n",
      "[1. 1. 1. 1. 1. 1. 1.]\n",
      "[1. 1. 1. 1. 1. 1. 1.]\n",
      "[1. 1. 1. 1. 1. 1. 1.]\n",
      "[1. 1. 1. 1. 1. 1. 1.]\n",
      "[1. 1. 1. 1. 1. 1. 1.]\n",
      "[1. 1. 1. 1. 1. 1. 1.]\n",
      "[1. 1. 1. 1. 1. 1. 1.]\n",
      "[1. 1. 1. 1. 1. 1. 1.]\n",
      "[1. 1. 1. 1. 1. 1. 1.]\n",
      "[1. 1. 1. 1. 1. 1. 1.]\n",
      "[1. 1. 1. 1. 1. 1. 1.]\n",
      "[1. 1. 1. 1. 1. 1. 1.]\n",
      "[1. 1. 1. 1. 1. 1. 1.]\n",
      "[1. 1. 1. 1. 1. 1. 1.]\n",
      "[1. 1. 1. 1. 1. 1. 1.]\n",
      "[1. 1. 1. 1. 1. 1. 1.]\n",
      "Optimization terminated successfully.\n",
      "         Current function value: 20.098522\n",
      "         Iterations: 18\n",
      "         Function evaluations: 28\n",
      "         Gradient evaluations: 28\n",
      "[1. 1. 1. 1. 1. 1. 1. 1.]\n",
      "[1. 1. 1. 1. 1. 1. 1. 1.]\n",
      "[1. 1. 1. 1. 1. 1. 1. 1.]\n",
      "[1. 1. 1. 1. 1. 1. 1. 1.]\n",
      "[1. 1. 1. 1. 1. 1. 1. 1.]\n",
      "Optimization terminated successfully.\n",
      "         Current function value: 18.172859\n",
      "         Iterations: 2\n",
      "         Function evaluations: 5\n",
      "         Gradient evaluations: 5\n",
      "[1. 1. 1. 1. 1. 1. 1. 1. 1.]\n",
      "[1. 1. 1. 1. 1. 1. 1. 1. 1.]\n",
      "[1. 1. 1. 1. 1. 1. 1. 1. 1.]\n",
      "[1. 1. 1. 1. 1. 1. 1. 1. 1.]\n",
      "[1. 1. 1. 1. 1. 1. 1. 1. 1.]\n",
      "Optimization terminated successfully.\n",
      "         Current function value: 22.609405\n",
      "         Iterations: 2\n",
      "         Function evaluations: 5\n",
      "         Gradient evaluations: 5\n",
      "[1. 1. 1. 1. 1. 1. 1. 1. 1. 1.]\n",
      "[1. 1. 1. 1. 1. 1. 1. 1. 1. 1.]\n",
      "[1. 1. 1. 1. 1. 1. 1. 1. 1. 1.]\n",
      "[1. 1. 1. 1. 1. 1. 1. 1. 1. 1.]\n",
      "[1. 1. 1. 1. 1. 1. 1. 1. 1. 1.]\n",
      "Optimization terminated successfully.\n",
      "         Current function value: 23.261462\n",
      "         Iterations: 2\n",
      "         Function evaluations: 5\n",
      "         Gradient evaluations: 5\n",
      "[1. 1. 1. 1. 1. 1. 1. 1. 1. 1. 1.]\n",
      "[1. 1. 1. 1. 1. 1. 1. 1. 1. 1. 1.]\n",
      "[1. 1. 1. 1. 1. 1. 1. 1. 1. 1. 1.]\n",
      "[1. 1. 1. 1. 1. 1. 1. 1. 1. 1. 1.]\n",
      "[1. 1. 1. 1. 1. 1. 1. 1. 1. 1. 1.]\n",
      "Optimization terminated successfully.\n",
      "         Current function value: 24.317250\n",
      "         Iterations: 2\n",
      "         Function evaluations: 5\n",
      "         Gradient evaluations: 5\n",
      "[1. 1. 1. 1. 1. 1. 1. 1. 1. 1. 1. 1.]\n",
      "[1. 1. 1. 1. 1. 1. 1. 1. 1. 1. 1. 1.]\n",
      "[1. 1. 1. 1. 1. 1. 1. 1. 1. 1. 1. 1.]\n",
      "[1. 1. 1. 1. 1. 1. 1. 1. 1. 1. 1. 1.]\n",
      "[1. 1. 1. 1. 1. 1. 1. 1. 1. 1. 1. 1.]\n",
      "Optimization terminated successfully.\n",
      "         Current function value: 22.373906\n",
      "         Iterations: 2\n",
      "         Function evaluations: 5\n",
      "         Gradient evaluations: 5\n",
      "# Training Examples\tTrain Error\tCross Validation Error\n",
      "\n",
      "  \t0\t\t0.000000\t205.121096\n",
      "\n",
      "  \t1\t\t0.000000\t110.300366\n",
      "\n",
      "  \t2\t\t3.286595\t45.010232\n",
      "\n",
      "  \t3\t\t2.842678\t48.368911\n",
      "\n",
      "  \t4\t\t13.154049\t35.865141\n",
      "\n",
      "  \t5\t\t19.443963\t33.829957\n",
      "\n",
      "  \t6\t\t20.098522\t31.970987\n",
      "\n",
      "  \t7\t\t18.172859\t30.862446\n",
      "\n",
      "  \t8\t\t22.609405\t31.135998\n",
      "\n",
      "  \t9\t\t23.261462\t28.936207\n",
      "\n",
      "  \t10\t\t24.317250\t29.551432\n",
      "\n",
      "  \t11\t\t22.373906\t29.433818\n",
      "\n"
     ]
    },
    {
     "data": {
      "image/png": "[encoded data removed]",
      "text/plain": [
       "<Figure size 432x288 with 1 Axes>"
      ]
     },
     "metadata": {
      "needs_background": "light"
     },
     "output_type": "display_data"
    }
   ],
   "source": [
    "mval = np.size(Xval, 0)\n",
    "error_train, error_val = learningCurve(np.c_[np.ones(m,), X], Y, np.c_[np.ones(mval,), Xval], Yval, lamb)\n",
    "\n",
    "plt.plot(np.arange(m) + 1, error_train, 'b-', label='Train');\n",
    "plt.plot(np.arange(m) + 1, error_val, 'r-', label='Cross Validation')\n",
    "plt.title('Learning curve for linear regression')\n",
    "plt.legend(loc='upper right')\n",
    "plt.xlabel('Number of training examples')\n",
    "plt.ylabel('Error')\n",
    "plt.axis([0, 13, 0, 150])\n",
    "\n",
    "print('# Training Examples\\tTrain Error\\tCross Validation Error\\n');\n",
    "for i in range(m):\n",
    "    print('  \\t%d\\t\\t%f\\t%f\\n' % (i, error_train[i], error_val[i]));"
   ]
  },
  {
   "cell_type": "markdown",
   "id": "9dbd4f1d-2ddf-4367-b5d8-c975b346efb3",
   "metadata": {},
   "source": [
    "# =========== Part 6: Feature Mapping for Polynomial Regression ============="
   ]
  },
  {
   "cell_type": "code",
   "execution_count": 12,
   "id": "d1f61f85-b051-421a-8efc-fdd3839ce6d3",
   "metadata": {},
   "outputs": [],
   "source": [
    "def polyFeature(x, p):\n",
    "    m = np.size(x, 0)\n",
    "    x_poly = np.zeros((m, p))\n",
    "    for i in range(p):\n",
    "        x_poly[:, i] = np.power(x, i+1)\n",
    "    return x_poly\n",
    "def featureNormalize(x):\n",
    "    mu = np.mean(x, 0)\n",
    "    sigma = np.std(x, 0, ddof=1)\n",
    "    x_norm = (x - mu) / sigma\n",
    "    return x_norm, mu, sigma"
   ]
  },
  {
   "cell_type": "code",
   "execution_count": 13,
   "id": "9a7fee8c-4af7-49b5-95e9-daf25ff6d2e0",
   "metadata": {},
   "outputs": [
    {
     "name": "stdout",
     "output_type": "stream",
     "text": [
      "12\n",
      "Normalized Training Example 1: \n",
      " [ 1.         -0.36214078 -0.75508669  0.18222588 -0.70618991  0.30661792\n",
      " -0.59087767  0.3445158  -0.50848117]\n"
     ]
    }
   ],
   "source": [
    "p = 8\n",
    "X_p = polyFeature(X, p)\n",
    "X_p, mu, sigma = featureNormalize(X_p)\n",
    "print(m)\n",
    "X_poly = np.c_[np.ones((m,1)), X_p]\n",
    "\n",
    "ltest = np.size(Xtest, 0)\n",
    "X_p_test = polyFeature(Xtest, p)\n",
    "X_p_test = (X_p_test - mu) / sigma\n",
    "X_poly_test = np.c_[np.ones((ltest, 1)), X_p_test]\n",
    "\n",
    "lval = np.size(Xval, 0)\n",
    "X_v_test = polyFeature(Xval, p)\n",
    "X_v_test = (X_v_test - mu)/sigma\n",
    "X_poly_val = np.c_[np.ones((lval, 1)), X_v_test]\n",
    "\n",
    "print('Normalized Training Example 1: \\n', X_poly[0, :])"
   ]
  },
  {
   "cell_type": "markdown",
   "id": "3e2fb3b3-6b64-4b5d-8aa3-118ce52bb6ff",
   "metadata": {},
   "source": [
    "# =========== Part 7: Learning Curve for Polynomial Regression ============="
   ]
  },
  {
   "cell_type": "code",
   "execution_count": null,
   "id": "4833f583-9f72-4807-addc-3efd72ffc22f",
   "metadata": {},
   "outputs": [],
   "source": [
    "def plotFit(min_x, max_x, mu, sigma, p):\n",
    "    x = np.arange(min_x - 15, max_x + 15, 0.05)\n",
    "    x_p = polyFeature(x, p)\n",
    "    x_p = (x_p - mu)/sigma\n",
    "    l = np.size(x_p, 0)\n",
    "    x_poly = np.c_[np.ones((l, 1)), x_p]\n",
    "    return x, x_poly.dot(theta)\n",
    "\n",
    "lamb = 0\n",
    "theta =  trainLineReg(X_poly, Y, lamb)\n",
    "\n",
    "x_simu, y_simu = plotFit(np.min(X), np.max(X), mu, sigma, p)\n",
    "fig1 = plt.figure(1)\n",
    "ax = fig1.add_subplot(111)\n",
    "ax.plot(X, Y, 'rx', ms=10, mew=1.5)\n",
    "ax.plot(x_simu, y_simu, '--', lw=2)\n",
    "ax.set_xlabel('Change in water level (x)')\n",
    "ax.set_ylabel('Water flowing out of the dam (y)')\n",
    "fig1.suptitle('Polynomial Regression Fit (lambda = 0)')"
   ]
  },
  {
   "cell_type": "code",
   "execution_count": null,
   "id": "39fa8993-e468-4dbc-877b-25a79508f3b8",
   "metadata": {},
   "outputs": [],
   "source": [
    "err_train, err_val = learningCurve(X_poly, Y, X_poly_val, Yval, lamb)\n",
    "fig2 = plt.figure(2)\n",
    "ax2 = fig2.add_subplot(111)\n",
    "ax2.plot(np.arange(m)+1, err_train, 'b', label='Train')\n",
    "ax2.plot(np.arange(m)+1, err_val, 'r', label='Cross Validation')\n",
    "ax2.set_xlabel('Number of training examples')\n",
    "ax2.set_ylabel('Error')\n",
    "handles2, labels2 = ax2.get_legend_handles_labels()\n",
    "ax2.legend(handles2, labels2)\n",
    "ax2.set_xlim([0, 13])\n",
    "ax2.set_ylim([0, 100])\n",
    "fig2.suptitle('PPolynomial Regression Learning Curve (lambda = 0)')\n",
    "plt.show()\n",
    "print('Polynomial Regression (lambda = 0)')\n",
    "print('Training Examples\\tTrain Error\\tCross Validation Error')\n",
    "for i in range(m):\n",
    "    print('  \\t%d\\t\\t%f\\t%f' % (i+1, err_train[i], err_val[i]))"
   ]
  },
  {
   "cell_type": "markdown",
   "id": "e6a86650-15df-4ea9-be69-66a619da70d8",
   "metadata": {},
   "source": [
    "# =========== Part 8: Validation for Selecting Lambda ============="
   ]
  },
  {
   "cell_type": "code",
   "execution_count": 20,
   "id": "c7e473ea-dcda-4668-bc53-247d34356d90",
   "metadata": {},
   "outputs": [
    {
     "ename": "NameError",
     "evalue": "name 'trainLinReg' is not defined",
     "output_type": "error",
     "traceback": [
      "\u001b[1;31m---------------------------------------------------------------------------\u001b[0m",
      "\u001b[1;31mNameError\u001b[0m                                 Traceback (most recent call last)",
      "\u001b[1;32m<ipython-input-20-924823800e8f>\u001b[0m in \u001b[0;36m<module>\u001b[1;34m\u001b[0m\n\u001b[0;32m     12\u001b[0m     \u001b[1;32mreturn\u001b[0m \u001b[0mlamb_vec\u001b[0m\u001b[1;33m,\u001b[0m \u001b[0merr_train\u001b[0m\u001b[1;33m,\u001b[0m \u001b[0merr_val\u001b[0m\u001b[1;33m\u001b[0m\u001b[1;33m\u001b[0m\u001b[0m\n\u001b[0;32m     13\u001b[0m \u001b[1;33m\u001b[0m\u001b[0m\n\u001b[1;32m---> 14\u001b[1;33m \u001b[0mlambda_vec\u001b[0m\u001b[1;33m,\u001b[0m \u001b[0merr_train\u001b[0m\u001b[1;33m,\u001b[0m \u001b[0merr_val\u001b[0m \u001b[1;33m=\u001b[0m \u001b[0mvalidationCurve\u001b[0m\u001b[1;33m(\u001b[0m\u001b[0mX_poly\u001b[0m\u001b[1;33m,\u001b[0m \u001b[0mY\u001b[0m\u001b[1;33m,\u001b[0m \u001b[0mX_poly_val\u001b[0m\u001b[1;33m,\u001b[0m \u001b[0mYval\u001b[0m\u001b[1;33m)\u001b[0m\u001b[1;33m\u001b[0m\u001b[1;33m\u001b[0m\u001b[0m\n\u001b[0m\u001b[0;32m     15\u001b[0m \u001b[0mplt\u001b[0m\u001b[1;33m.\u001b[0m\u001b[0mplot\u001b[0m\u001b[1;33m(\u001b[0m\u001b[0mlambda_vec\u001b[0m\u001b[1;33m,\u001b[0m \u001b[0merr_train\u001b[0m\u001b[1;33m,\u001b[0m \u001b[1;34m'b'\u001b[0m\u001b[1;33m,\u001b[0m \u001b[0mlabel\u001b[0m\u001b[1;33m=\u001b[0m\u001b[1;34m'Train'\u001b[0m\u001b[1;33m)\u001b[0m\u001b[1;33m\u001b[0m\u001b[1;33m\u001b[0m\u001b[0m\n\u001b[0;32m     16\u001b[0m \u001b[0mplt\u001b[0m\u001b[1;33m.\u001b[0m\u001b[0mplot\u001b[0m\u001b[1;33m(\u001b[0m\u001b[0mlambda_vec\u001b[0m\u001b[1;33m,\u001b[0m \u001b[0merr_val\u001b[0m\u001b[1;33m,\u001b[0m \u001b[1;34m'r'\u001b[0m\u001b[1;33m,\u001b[0m \u001b[0mlabel\u001b[0m\u001b[1;33m=\u001b[0m\u001b[1;34m'Cross Validation'\u001b[0m\u001b[1;33m)\u001b[0m\u001b[1;33m\u001b[0m\u001b[1;33m\u001b[0m\u001b[0m\n",
      "\u001b[1;32m<ipython-input-20-924823800e8f>\u001b[0m in \u001b[0;36mvalidationCurve\u001b[1;34m(x, y, xval, yval)\u001b[0m\n\u001b[0;32m      6\u001b[0m     \u001b[1;32mfor\u001b[0m \u001b[0mi\u001b[0m \u001b[1;32min\u001b[0m \u001b[0mrange\u001b[0m\u001b[1;33m(\u001b[0m\u001b[0mlen\u001b[0m\u001b[1;33m(\u001b[0m\u001b[0mlamb_vec\u001b[0m\u001b[1;33m)\u001b[0m\u001b[1;33m)\u001b[0m\u001b[1;33m:\u001b[0m\u001b[1;33m\u001b[0m\u001b[1;33m\u001b[0m\u001b[0m\n\u001b[0;32m      7\u001b[0m         \u001b[0mlamb\u001b[0m \u001b[1;33m=\u001b[0m \u001b[0mlamb_vec\u001b[0m\u001b[1;33m[\u001b[0m\u001b[0mi\u001b[0m\u001b[1;33m]\u001b[0m\u001b[1;33m\u001b[0m\u001b[1;33m\u001b[0m\u001b[0m\n\u001b[1;32m----> 8\u001b[1;33m         \u001b[0mtheta\u001b[0m \u001b[1;33m=\u001b[0m \u001b[0mtrainLinReg\u001b[0m\u001b[1;33m(\u001b[0m\u001b[0mx\u001b[0m\u001b[1;33m,\u001b[0m \u001b[0my\u001b[0m\u001b[1;33m,\u001b[0m \u001b[0mlamb\u001b[0m\u001b[1;33m)\u001b[0m\u001b[1;33m\u001b[0m\u001b[1;33m\u001b[0m\u001b[0m\n\u001b[0m\u001b[0;32m      9\u001b[0m         \u001b[0merr_train\u001b[0m\u001b[1;33m[\u001b[0m\u001b[0mi\u001b[0m\u001b[1;33m]\u001b[0m \u001b[1;33m=\u001b[0m \u001b[0mlinRegCostFunc\u001b[0m\u001b[1;33m(\u001b[0m\u001b[0mtheta\u001b[0m\u001b[1;33m,\u001b[0m \u001b[0mx\u001b[0m\u001b[1;33m,\u001b[0m \u001b[0my\u001b[0m\u001b[1;33m,\u001b[0m \u001b[1;36m0\u001b[0m\u001b[1;33m)\u001b[0m\u001b[1;33m\u001b[0m\u001b[1;33m\u001b[0m\u001b[0m\n\u001b[0;32m     10\u001b[0m         \u001b[0merr_val\u001b[0m\u001b[1;33m[\u001b[0m\u001b[0mi\u001b[0m\u001b[1;33m]\u001b[0m \u001b[1;33m=\u001b[0m \u001b[0mlinRegCostFunc\u001b[0m\u001b[1;33m(\u001b[0m\u001b[0mtheta\u001b[0m\u001b[1;33m,\u001b[0m \u001b[0mxval\u001b[0m\u001b[1;33m,\u001b[0m \u001b[0myval\u001b[0m\u001b[1;33m,\u001b[0m \u001b[1;36m0\u001b[0m\u001b[1;33m)\u001b[0m\u001b[1;33m\u001b[0m\u001b[1;33m\u001b[0m\u001b[0m\n",
      "\u001b[1;31mNameError\u001b[0m: name 'trainLinReg' is not defined"
     ]
    }
   ],
   "source": [
    "def validationCurve(x, y, xval, yval):\n",
    "    lamb_vec = [0, 0.001, 0.003, 0.01, 0.03, 0.1, 0.3, 1, 3, 10]\n",
    "    err_train = np.zeros((len(lamb_vec,)))\n",
    "    err_val = np.zeros((len(lamb_vec,)))\n",
    "\n",
    "    for i in range(len(lamb_vec)):\n",
    "        lamb = lamb_vec[i]\n",
    "        theta = trainLineReg(x, y, lamb)\n",
    "        err_train[i] = linRegCostFunc(theta, x, y, 0)\n",
    "        err_val[i] = linRegCostFunc(theta, xval, yval, 0)\n",
    "\n",
    "    return lamb_vec, err_train, err_val\n",
    "\n",
    "lambda_vec, err_train, err_val = validationCurve(X_poly, Y, X_poly_val, Yval)\n",
    "plt.plot(lambda_vec, err_train, 'b', label='Train')\n",
    "plt.plot(lambda_vec, err_val, 'r', label='Cross Validation')\n",
    "plt.xlabel('lambda')\n",
    "plt.ylabel('Error')\n",
    "plt.legend(loc='upper right')\n",
    "plt.show()\n",
    "\n",
    "print('lambda\\t\\tTrain Error\\tValidation Error')\n",
    "for i in range(len(lambda_vec)):\n",
    "    print(' %f\\t%f\\t%f' % (lambda_vec[i], err_train[i], err_val[i]))"
   ]
  },
  {
   "cell_type": "code",
   "execution_count": null,
   "id": "0ea6fd94-40f0-46f6-8f2c-34d8e29e59c4",
   "metadata": {},
   "outputs": [],
   "source": []
  },
  {
   "cell_type": "code",
   "execution_count": null,
   "id": "694fe027-292d-4ac1-80c6-c76c30d4c0fc",
   "metadata": {},
   "outputs": [],
   "source": []
  },
  {
   "cell_type": "code",
   "execution_count": null,
   "id": "bde02127-c178-47fc-9baa-7618ca245318",
   "metadata": {},
   "outputs": [],
   "source": []
  }
 ],
 "metadata": {
  "kernelspec": {
   "display_name": "Python 3",
   "language": "python",
   "name": "python3"
  },
  "language_info": {
   "codemirror_mode": {
    "name": "ipython",
    "version": 3
   },
   "file_extension": ".py",
   "mimetype": "text/x-python",
   "name": "python",
   "nbconvert_exporter": "python",
   "pygments_lexer": "ipython3",
   "version": "3.8.8"
  }
 },
 "nbformat": 4,
 "nbformat_minor": 5
}
