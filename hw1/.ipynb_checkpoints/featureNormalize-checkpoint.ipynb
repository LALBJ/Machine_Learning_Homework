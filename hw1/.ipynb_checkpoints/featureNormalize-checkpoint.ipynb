{
 "cells": [
  {
   "cell_type": "code",
   "execution_count": 2,
   "metadata": {},
   "outputs": [],
   "source": [
    "import numpy as np\n",
    "\n",
    "def featureNormalize(X):\n",
    "    X_norm = X\n",
    "    mu = np.zeros(2)\n",
    "    sigma = np.zeros(2)\n",
    "    \n",
    "    for i in range (2):\n",
    "        mu[i] = np.mean(X[:, i])\n",
    "        X_norm[:, i] = X[:, i] - mu[i]\n",
    "        sigma[i] = np.std(X[:, i])\n",
    "        X_norm[:, i] = X_norm[:, i] / sigma[i]\n",
    "        \n",
    "    return [X_norm, mu, sigma]"
   ]
  }
 ],
 "metadata": {
  "kernelspec": {
   "display_name": "Python 3",
   "language": "python",
   "name": "python3"
  },
  "language_info": {
   "codemirror_mode": {
    "name": "ipython",
    "version": 3
   },
   "file_extension": ".py",
   "mimetype": "text/x-python",
   "name": "python",
   "nbconvert_exporter": "python",
   "pygments_lexer": "ipython3",
   "version": "3.7.3"
  }
 },
 "nbformat": 4,
 "nbformat_minor": 4
}
