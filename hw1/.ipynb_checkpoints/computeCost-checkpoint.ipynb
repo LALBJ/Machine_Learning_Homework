{
 "cells": [
  {
   "cell_type": "code",
   "execution_count": 1,
   "metadata": {},
   "outputs": [],
   "source": [
    "import numpy as np\n",
    "\n",
    "\n",
    "def computeCost(X, y, theta):\n",
    "    # Initialize some useful values\n",
    "    m = y.size\n",
    "    cost = 0\n",
    "\n",
    "    # ===================== Your Code Here =====================\n",
    "    # Instructions : Compute the cost of a particular choice of theta.\n",
    "    #                You should set the variable \"cost\" to the correct value.\n",
    "    # translate y from (n,) into (n,1)\n",
    "    y = np.reshape(y, (-1, 1))\n",
    "    cost = np.dot((np.dot(X, theta) - y).T, np.dot(X, theta) - y) / (2 * m)\n",
    "    \n",
    "    return cost"
   ]
  }
 ],
 "metadata": {
  "kernelspec": {
   "display_name": "Python 3",
   "language": "python",
   "name": "python3"
  },
  "language_info": {
   "codemirror_mode": {
    "name": "ipython",
    "version": 3
   },
   "file_extension": ".py",
   "mimetype": "text/x-python",
   "name": "python",
   "nbconvert_exporter": "python",
   "pygments_lexer": "ipython3",
   "version": "3.7.3"
  }
 },
 "nbformat": 4,
 "nbformat_minor": 4
}
