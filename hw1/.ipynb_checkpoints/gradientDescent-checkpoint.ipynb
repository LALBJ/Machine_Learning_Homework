{
 "cells": [
  {
   "cell_type": "code",
   "execution_count": 1,
   "metadata": {},
   "outputs": [],
   "source": [
    "import numpy as np\n",
    "import import_ipynb"
   ]
  },
  {
   "cell_type": "code",
   "execution_count": 2,
   "metadata": {},
   "outputs": [
    {
     "name": "stdout",
     "output_type": "stream",
     "text": [
      "importing Jupyter notebook from computeCost.ipynb\n"
     ]
    }
   ],
   "source": [
    "from computeCost import computeCost"
   ]
  },
  {
   "cell_type": "code",
   "execution_count": 3,
   "metadata": {},
   "outputs": [],
   "source": [
    "# 迭代计算theta\n",
    "def gradientDescent(x, y, theta, alpha, num_iters):\n",
    "    m = np.size(y)\n",
    "    J_history = np.zeros(num_iters, )\n",
    "    y = np.reshape(y, (-1, 1))\n",
    "    for iter in range(0, num_iters):\n",
    "        delta = np.dot(x.T, np.dot(x, theta) - y) / m\n",
    "        theta -= (delta * alpha)\n",
    "        \n",
    "        J_history[iter] = computeCost(x, y, theta)\n",
    "        \n",
    "    return theta, J_history"
   ]
  }
 ],
 "metadata": {
  "kernelspec": {
   "display_name": "Python 3",
   "language": "python",
   "name": "python3"
  },
  "language_info": {
   "codemirror_mode": {
    "name": "ipython",
    "version": 3
   },
   "file_extension": ".py",
   "mimetype": "text/x-python",
   "name": "python",
   "nbconvert_exporter": "python",
   "pygments_lexer": "ipython3",
   "version": "3.7.3"
  }
 },
 "nbformat": 4,
 "nbformat_minor": 4
}
