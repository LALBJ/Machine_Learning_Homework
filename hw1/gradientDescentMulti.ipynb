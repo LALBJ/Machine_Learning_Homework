{
 "cells": [
  {
   "cell_type": "code",
   "execution_count": 1,
   "metadata": {},
   "outputs": [
    {
     "name": "stdout",
     "output_type": "stream",
     "text": [
      "importing Jupyter notebook from computeCost.ipynb\n"
     ]
    }
   ],
   "source": [
    "import numpy as np\n",
    "import import_ipynb\n",
    "from computeCost import computeCost\n",
    "def gradientDescentMulti(X, y, theta, alpha, num_iters):\n",
    "    m = len(y)\n",
    "    J_history = np.zeros([num_iters, 1])\n",
    "    \n",
    "    for iter in range(num_iters):\n",
    "        theta = theta - (alpha / m) * (np.dot(X.T, (np.dot(X, theta) - np.reshape(y, (-1, 1)))))\n",
    "        J_history[iter] = computeCost(X, y, theta)\n",
    "    return [theta, J_history]"
   ]
  }
 ],
 "metadata": {
  "kernelspec": {
   "display_name": "Python 3",
   "language": "python",
   "name": "python3"
  },
  "language_info": {
   "codemirror_mode": {
    "name": "ipython",
    "version": 3
   },
   "file_extension": ".py",
   "mimetype": "text/x-python",
   "name": "python",
   "nbconvert_exporter": "python",
   "pygments_lexer": "ipython3",
   "version": "3.7.3"
  }
 },
 "nbformat": 4,
 "nbformat_minor": 4
}
