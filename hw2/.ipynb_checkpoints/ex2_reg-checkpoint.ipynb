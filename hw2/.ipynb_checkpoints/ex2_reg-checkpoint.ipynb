{
 "cells": [
  {
   "cell_type": "code",
   "execution_count": 7,
   "id": "24bc734a-4603-423b-ad47-c3ffc58612e0",
   "metadata": {},
   "outputs": [],
   "source": [
    "import numpy as np\n",
    "import matplotlib.pyplot as plt"
   ]
  },
  {
   "cell_type": "code",
   "execution_count": 5,
   "id": "deed1e3b-c0fa-48c3-bbdf-4e63e71ac17b",
   "metadata": {},
   "outputs": [],
   "source": [
    "data = np.loadtxt('ex2/ex2data2.txt', delimiter=',')\n",
    "X = data[:, 0:2]\n",
    "y = data[:, 2]"
   ]
  },
  {
   "cell_type": "code",
   "execution_count": 11,
   "id": "ae35dd87-2ca8-4e7c-9ade-78d70620b6e1",
   "metadata": {},
   "outputs": [
    {
     "data": {
      "image/png": "[encoded data removed]",
      "text/plain": [
       "<Figure size 432x288 with 1 Axes>"
      ]
     },
     "metadata": {
      "needs_background": "light"
     },
     "output_type": "display_data"
    }
   ],
   "source": [
    "def plotData(X, y):\n",
    "    pos = np.where(y == 1)\n",
    "    neg = np.where(y == 0)\n",
    "    p1 = plt.scatter(X[pos, 0], X[pos, 1], marker='+', s=30, color='b')\n",
    "    p2 = plt.scatter(X[neg, 0], X[neg, 1], marker='o', s=30, color='y')\n",
    "    plt.legend((p1, p2), ('y = 1', 'y = 0'), loc='upper right', fontsize=8)\n",
    "    plt.xlabel('Microship Test 1')\n",
    "    plt.ylabel('Microship Test 2')\n",
    "    plt.show\n",
    "plotData(X, y)"
   ]
  },
  {
   "cell_type": "markdown",
   "id": "186602b5-816a-452f-aa6c-a0ed22873c1a",
   "metadata": {},
   "source": [
    "# =========== Part 1: Regularized Logistic Regression ============"
   ]
  },
  {
   "cell_type": "code",
   "execution_count": 12,
   "id": "705b4549-e3f9-47ba-a9e0-8bb2e98bec3c",
   "metadata": {},
   "outputs": [],
   "source": [
    "def mapFeature(x1, x2):\n",
    "    degree = 6\n",
    "    col = int(degree*(degree+1)/2+degree+1)\n",
    "    out = np.ones((np.size(x1, 0), col))\n",
    "    count = 1\n",
    "    for i in range(1, degree+1):\n",
    "        for j in range(i+1):\n",
    "            out[:, count] = np.power(x1, i-j)*np.power(x2, j)\n",
    "            count += 1\n",
    "    return out\n",
    "\n",
    "X = mapFeature(X[:, 0], X[:, 1])"
   ]
  },
  {
   "cell_type": "code",
   "execution_count": 13,
   "id": "eafe49a1-32eb-449a-badc-aa8b1b0486fa",
   "metadata": {},
   "outputs": [
    {
     "data": {
      "text/plain": [
       "array([[ 1.00000000e+00,  5.12670000e-02,  6.99560000e-01, ...,\n",
       "         6.29470940e-04,  8.58939846e-03,  1.17205992e-01],\n",
       "       [ 1.00000000e+00, -9.27420000e-02,  6.84940000e-01, ...,\n",
       "         1.89305413e-03, -1.39810280e-02,  1.03255971e-01],\n",
       "       [ 1.00000000e+00, -2.13710000e-01,  6.92250000e-01, ...,\n",
       "         1.04882142e-02, -3.39734512e-02,  1.10046893e-01],\n",
       "       ...,\n",
       "       [ 1.00000000e+00, -4.84450000e-01,  9.99270000e-01, ...,\n",
       "         2.34007252e-01, -4.82684337e-01,  9.95627986e-01],\n",
       "       [ 1.00000000e+00, -6.33640000e-03,  9.99270000e-01, ...,\n",
       "         4.00328554e-05, -6.31330588e-03,  9.95627986e-01],\n",
       "       [ 1.00000000e+00,  6.32650000e-01, -3.06120000e-02, ...,\n",
       "         3.51474517e-07, -1.70067777e-08,  8.22905998e-10]])"
      ]
     },
     "execution_count": 13,
     "metadata": {},
     "output_type": "execute_result"
    }
   ],
   "source": [
    "# initialize fitting parameters\n",
    "initial_theta = np.zeros(np.size(X), 1)\n",
    "\n",
    "# set regularization parameter lamda to 1\n",
    "lambda = 1\n",
    "\n"
   ]
  },
  {
   "cell_type": "code",
   "execution_count": null,
   "id": "22d91654-bac0-4666-8006-a573b0268193",
   "metadata": {},
   "outputs": [],
   "source": []
  }
 ],
 "metadata": {
  "kernelspec": {
   "display_name": "Python 3",
   "language": "python",
   "name": "python3"
  },
  "language_info": {
   "codemirror_mode": {
    "name": "ipython",
    "version": 3
   },
   "file_extension": ".py",
   "mimetype": "text/x-python",
   "name": "python",
   "nbconvert_exporter": "python",
   "pygments_lexer": "ipython3",
   "version": "3.8.8"
  }
 },
 "nbformat": 4,
 "nbformat_minor": 5
}
